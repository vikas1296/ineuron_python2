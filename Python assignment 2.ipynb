{
 "cells": [
  {
   "cell_type": "markdown",
   "id": "3b2d2fdc",
   "metadata": {},
   "source": [
    "1. Create the below pattern using nested for loop in Python. "
   ]
  },
  {
   "cell_type": "code",
   "execution_count": 2,
   "id": "813021f3",
   "metadata": {},
   "outputs": [
    {
     "name": "stdout",
     "output_type": "stream",
     "text": [
      "Enter a number: 5\n",
      " \n",
      "*  \n",
      "* *  \n",
      "* * *  \n",
      "* * * *  \n",
      "* * * * *  \n",
      "* * * *  \n",
      "* * *  \n",
      "* *  \n",
      "*  \n"
     ]
    }
   ],
   "source": [
    "n = int(input(\"Enter a number: \"))\n",
    "for i in range(n+1):\n",
    "    for j in range(i):\n",
    "        print(\"* \", end=\"\" )\n",
    "    print(\" \")\n",
    "for i in range(n-1,0,-1):\n",
    "    for j in range(i):\n",
    "        print(\"* \",end=\"\")\n",
    "    print(\" \")"
   ]
  },
  {
   "cell_type": "markdown",
   "id": "abc2d5c7",
   "metadata": {},
   "source": [
    "2. Write a Python program to reverse a word after accepting the input from the user.\n",
    "\n"
   ]
  },
  {
   "cell_type": "code",
   "execution_count": 10,
   "id": "37f9f090",
   "metadata": {},
   "outputs": [],
   "source": [
    "def reverse(n):\n",
    "    if type(n)==str:\n",
    "        return n[::-1]\n",
    "    else:\n",
    "        print(\"please write a word\")"
   ]
  },
  {
   "cell_type": "code",
   "execution_count": 14,
   "id": "0412fcef",
   "metadata": {},
   "outputs": [
    {
     "data": {
      "text/plain": [
       "'norueni'"
      ]
     },
     "execution_count": 14,
     "metadata": {},
     "output_type": "execute_result"
    }
   ],
   "source": [
    "reverse('ineuron')"
   ]
  },
  {
   "cell_type": "code",
   "execution_count": 13,
   "id": "7fb8913d",
   "metadata": {},
   "outputs": [
    {
     "name": "stdout",
     "output_type": "stream",
     "text": [
      "please write a word\n"
     ]
    }
   ],
   "source": [
    "reverse(5)"
   ]
  },
  {
   "cell_type": "code",
   "execution_count": null,
   "id": "274190d3",
   "metadata": {},
   "outputs": [],
   "source": []
  }
 ],
 "metadata": {
  "kernelspec": {
   "display_name": "Python 3 (ipykernel)",
   "language": "python",
   "name": "python3"
  },
  "language_info": {
   "codemirror_mode": {
    "name": "ipython",
    "version": 3
   },
   "file_extension": ".py",
   "mimetype": "text/x-python",
   "name": "python",
   "nbconvert_exporter": "python",
   "pygments_lexer": "ipython3",
   "version": "3.9.7"
  }
 },
 "nbformat": 4,
 "nbformat_minor": 5
}
